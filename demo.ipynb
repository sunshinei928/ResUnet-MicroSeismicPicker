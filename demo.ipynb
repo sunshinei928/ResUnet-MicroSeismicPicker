{
 "cells": [
  {
   "cell_type": "code",
   "execution_count": 2,
   "metadata": {},
   "outputs": [
    {
     "name": "stdout",
     "output_type": "stream",
     "text": [
      "total events in csv file: 1265657\n",
      "total events selected: 642456\n"
     ]
    },
    {
     "name": "stderr",
     "output_type": "stream",
     "text": [
      "C:\\Users\\29147\\.conda\\envs\\pytorch\\lib\\site-packages\\IPython\\core\\interactiveshell.py:3357: DtypeWarning: Columns (7,11,13,14,15,18,19,20,21,22,24,25,26,30,31) have mixed types.Specify dtype option on import or set low_memory=False.\n",
      "  if (await self.run_code(code, result,  async_=asy)):\n"
     ]
    },
    {
     "name": "stdout",
     "output_type": "stream",
     "text": [
      "total noise selected: 235426\n"
     ]
    },
    {
     "name": "stderr",
     "output_type": "stream",
     "text": [
      "C:\\Users\\29147\\.conda\\envs\\pytorch\\lib\\site-packages\\torch\\nn\\functional.py:3458: UserWarning: Default upsampling behavior when mode=linear is changed to align_corners=False since 0.4.0. Please specify align_corners=True if the old behavior is desired. See the documentation of nn.Upsample for details.\n",
      "  \"See the documentation of nn.Upsample for details.\".format(mode)\n"
     ]
    },
    {
     "ename": "AttributeError",
     "evalue": "'Tensor' object has no attribute 'append'",
     "output_type": "error",
     "traceback": [
      "\u001b[1;31m---------------------------------------------------------------------------\u001b[0m",
      "\u001b[1;31mAttributeError\u001b[0m                            Traceback (most recent call last)",
      "\u001b[1;32m<ipython-input-2-c2148c80213c>\u001b[0m in \u001b[0;36m<module>\u001b[1;34m\u001b[0m\n\u001b[0;32m     45\u001b[0m         \u001b[0mtotal_step\u001b[0m \u001b[1;33m+=\u001b[0m \u001b[1;36m1\u001b[0m\u001b[1;33m\u001b[0m\u001b[1;33m\u001b[0m\u001b[0m\n\u001b[0;32m     46\u001b[0m         \u001b[1;32mif\u001b[0m \u001b[0mtotal_step\u001b[0m\u001b[1;33m%\u001b[0m\u001b[1;36m200\u001b[0m \u001b[1;33m==\u001b[0m \u001b[1;36m0\u001b[0m\u001b[1;33m:\u001b[0m\u001b[1;33m\u001b[0m\u001b[1;33m\u001b[0m\u001b[0m\n\u001b[1;32m---> 47\u001b[1;33m             loss.append({\n\u001b[0m\u001b[0;32m     48\u001b[0m                 \u001b[1;34m\"total_step\"\u001b[0m\u001b[1;33m:\u001b[0m\u001b[0mtotal_step\u001b[0m\u001b[1;33m,\u001b[0m\u001b[1;33m\u001b[0m\u001b[1;33m\u001b[0m\u001b[0m\n\u001b[0;32m     49\u001b[0m                 \u001b[1;34m\"loss:\"\u001b[0m\u001b[1;33m:\u001b[0m\u001b[0mloss\u001b[0m\u001b[1;33m\u001b[0m\u001b[1;33m\u001b[0m\u001b[0m\n",
      "\u001b[1;31mAttributeError\u001b[0m: 'Tensor' object has no attribute 'append'"
     ]
    }
   ],
   "source": [
    "import torch\n",
    "from tqdm import tqdm\n",
    "from codes.model import  _QuakePicker_v4, Loss_With_Weight\n",
    "from torch.utils.data import DataLoader\n",
    "from codes.dataloader import init_dataset, STEAD_Dataset\n",
    "from codes.visualize_and_evaluate import evaluate\n",
    "from codes import configs\n",
    "\n",
    "device = torch.device(\"cuda\") if torch.cuda.is_available() else torch.device(\"cpu\")\n",
    "\n",
    "train_set,val_set,noise_set = init_dataset()\n",
    "train_set = STEAD_Dataset(train_set)\n",
    "val_set = STEAD_Dataset(val_set)\n",
    "\n",
    "train_dataloader = DataLoader(train_set, shuffle=True, batch_size=configs.BATCH_SIZE, num_workers=4, drop_last=True)\n",
    "eval_dataloader = DataLoader(val_set, shuffle=True,batch_size=1, num_workers=4, drop_last=True)\n",
    "\n",
    "mseLoss = torch.nn.MSELoss()\n",
    "QuackNet = _QuakePicker_v4().to(device)\n",
    "\n",
    "optimizer = torch.optim.Adam(QuackNet.parameters(),\n",
    "                lr=configs.LEARNING_RATE,\n",
    "                betas=(0.9, 0.999),\n",
    "                eps=1e-08,\n",
    "                weight_decay=0,\n",
    "                amsgrad=False)\n",
    "\n",
    "total_step = 0\n",
    "loss_sum = 0\n",
    "loss_list = []\n",
    "for epoch in range(configs.EPOCH_NUM):\n",
    "    # training\n",
    "    for index,data in enumerate(train_dataloader,0):\n",
    "        stream,label_p,label_s,p_start,s_start,coda_end = data\n",
    "\n",
    "        # 清空累加梯度\n",
    "        QuackNet.zero_grad()\n",
    "        output = QuackNet(stream.to(device))\n",
    "        loss = 0\n",
    "        loss += Loss_With_Weight(output[:,0,:], label_p.to(device))\n",
    "        loss += Loss_With_Weight(output[:,1,:], label_s.to(device))\n",
    "        loss.backward()\n",
    "        loss_sum += loss.item()\n",
    "        optimizer.step()\n",
    "        total_step += 1\n",
    "        if total_step%200 == 0:\n",
    "            loss_list.append({\n",
    "                \"total_step\":total_step,\n",
    "                \"loss:\":loss\n",
    "            })\n",
    "            print(\"total_step:{} loss:{}\".format(total_step,loss_sum/200))\n",
    "            loss_sum = 0\n",
    "\n",
    "        if total_step%configs.CHECKPOINT_ITER == 0:\n",
    "            torch.save(QuackNet.eval(),configs.model_save_dir+\"models//QuackPicker_iter{}.pth\".format(total_step))\n",
    "            evaluate(configs.model_save_dir+\"models//QuackPicker_iter{}.pth\".format(total_step),\"batchsize:{} steps:{}\".format(configs.BATCH_SIZE,total_step),eval_dataloader,50,QuackNet)\n",
    "        "
   ]
  },
  {
   "cell_type": "code",
   "execution_count": 1,
   "metadata": {},
   "outputs": [],
   "source": [
    "from copy import deepcopy"
   ]
  },
  {
   "cell_type": "code",
   "execution_count": null,
   "metadata": {},
   "outputs": [],
   "source": []
  }
 ],
 "metadata": {
  "kernelspec": {
   "display_name": "Python 3",
   "language": "python",
   "name": "python3"
  },
  "language_info": {
   "codemirror_mode": {
    "name": "ipython",
    "version": 3
   },
   "file_extension": ".py",
   "mimetype": "text/x-python",
   "name": "python",
   "nbconvert_exporter": "python",
   "pygments_lexer": "ipython3",
   "version": "3.7.10"
  },
  "orig_nbformat": 4
 },
 "nbformat": 4,
 "nbformat_minor": 2
}
