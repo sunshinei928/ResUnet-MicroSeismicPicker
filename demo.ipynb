{
 "cells": [
  {
   "cell_type": "markdown",
   "metadata": {},
   "source": [
    "## 训练"
   ]
  },
  {
   "cell_type": "code",
   "execution_count": null,
   "metadata": {},
   "outputs": [],
   "source": [
    "import torch\n",
    "from codes.model import  ResUnet, ResUnet_LSTM, Loss_With_Weight\n",
    "from torch.utils.data import DataLoader\n",
    "from codes.dataloader import init_dataset, STEAD_Dataset\n",
    "from codes.visualize_and_evaluate import evaluate\n",
    "from codes import configs\n",
    "\n",
    "device = torch.device(\"cuda\") if torch.cuda.is_available() else torch.device(\"cpu\")\n",
    "\n",
    "train_set,val_set,noise_set = init_dataset()\n",
    "train_set = STEAD_Dataset(train_set)\n",
    "val_set = STEAD_Dataset(val_set)\n",
    "\n",
    "train_dataloader = DataLoader(train_set, shuffle=True, batch_size=configs.BATCH_SIZE, num_workers=64, drop_last=True)\n",
    "eval_dataloader = DataLoader(val_set, shuffle=True,batch_size=1, num_workers=16, drop_last=True)\n",
    "\n",
    "mseLoss = torch.nn.MSELoss()\n",
    "QuackNet = ResUnet().to(device)# 不带lstm的版本\n",
    "QuackNet = ResUnet_LSTM().to(device)# 带lstm的版本\n",
    "\n",
    "optimizer = torch.optim.Adam(QuackNet.parameters(),\n",
    "                lr=configs.LEARNING_RATE,\n",
    "                betas=(0.9, 0.999),\n",
    "                eps=1e-08,\n",
    "                weight_decay=0,\n",
    "                amsgrad=False)\n",
    "\n",
    "total_step = 0\n",
    "loss_sum = 0\n",
    "loss_list = []\n",
    "for epoch in range(configs.EPOCH_NUM):\n",
    "    # training\n",
    "    for index,data in enumerate(train_dataloader,0):\n",
    "        stream,label_p,label_s,p_start,s_start,coda_end = data\n",
    "\n",
    "        # 清空累加梯度\n",
    "        QuackNet.zero_grad()\n",
    "        output = QuackNet(stream.to(device))\n",
    "        loss = 0\n",
    "        loss += Loss_With_Weight(output[:,0,:], label_p.to(device))\n",
    "        loss += Loss_With_Weight(output[:,1,:], label_s.to(device))\n",
    "        loss.backward()\n",
    "        loss_sum += loss.item()\n",
    "        optimizer.step()\n",
    "        total_step += 1\n",
    "        if total_step%configs.LOSS_RECORD_ITER == 0:\n",
    "            loss_list.append({\n",
    "                \"total_step\":total_step,\n",
    "                \"loss:\":loss.item()\n",
    "            })\n",
    "            print(\"total_step:{} loss:{}\".format(total_step,loss_sum/configs.LOSS_RECORD_ITER))\n",
    "            loss_sum = 0\n",
    "\n",
    "        # if total_step%configs.CHECKPOINT_ITER == 0:\n",
    "        #     torch.save(QuackNet.eval(),configs.model_save_dir+\"QuackPicker_iter{}.pth\".format(total_step))\n",
    "        #     evaluate(configs.model_save_dir+\"QuackPicker_iter{}.pth\".format(total_step),\"batchsize:{} steps:{}\".format(configs.BATCH_SIZE,total_step),eval_dataloader,50,40)\n",
    "\n",
    "    torch.save(QuackNet.eval(),configs.model_save_dir+\"QuackPicker_iter{}.pth\".format(total_step))\n",
    "evaluate(configs.model_save_dir+\"QuackPicker_iter{}.pth\".format(total_step),\"batchsize:{} steps:{}\".format(configs.BATCH_SIZE,total_step),eval_dataloader,50,45)    \n",
    "        "
   ]
  },
  {
   "cell_type": "markdown",
   "metadata": {},
   "source": [
    "## 评估"
   ]
  },
  {
   "cell_type": "code",
   "execution_count": null,
   "metadata": {},
   "outputs": [],
   "source": [
    "from codes.visualize_and_evaluate import evaluate\n",
    "\n",
    "model_path = ''\n",
    "evaluate(configs.model_save_dir+\"QuackPicker_iter{}.pth\".format(total_step),\"batchsize:{} steps:{}\".format(configs.BATCH_SIZE,total_step),eval_dataloader,50,45)"
   ]
  },
  {
   "cell_type": "markdown",
   "metadata": {},
   "source": [
    "## 保存损失变化曲线"
   ]
  },
  {
   "cell_type": "code",
   "execution_count": null,
   "metadata": {},
   "outputs": [],
   "source": [
    "df_loss = pd.DataFrame(loss_list,columns=header,index=None)\n",
    "eva_df_old.append(eva_df_new).to_csv(configs.evaluation_csv_path,index=None)"
   ]
  }
 ],
 "metadata": {
  "interpreter": {
   "hash": "663e9bff0f8e489cfb11a535201dd029d3f4b5dbba25ed4b671d30c0c2c6bfa9"
  },
  "kernelspec": {
   "display_name": "myconda",
   "language": "python",
   "name": "python3"
  },
  "language_info": {
   "codemirror_mode": {
    "name": "ipython",
    "version": 3
   },
   "file_extension": ".py",
   "mimetype": "text/x-python",
   "name": "python",
   "nbconvert_exporter": "python",
   "pygments_lexer": "ipython3",
   "version": "3.7.10"
  },
  "orig_nbformat": 4
 },
 "nbformat": 4,
 "nbformat_minor": 2
}
