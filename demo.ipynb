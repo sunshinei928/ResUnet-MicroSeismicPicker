{
 "cells": [
  {
   "cell_type": "code",
   "execution_count": 1,
   "metadata": {},
   "outputs": [
    {
     "name": "stderr",
     "output_type": "stream",
     "text": [
      "C:\\Users\\29147\\.conda\\envs\\pytorch\\lib\\site-packages\\IPython\\core\\interactiveshell.py:3357: DtypeWarning: Columns (7,11,13,14,15,18,19,20,21,22,24,25,26,30,31) have mixed types.Specify dtype option on import or set low_memory=False.\n",
      "  if (await self.run_code(code, result,  async_=asy)):\n"
     ]
    },
    {
     "name": "stdout",
     "output_type": "stream",
     "text": [
      "total events in csv file: 1265657\n",
      "total events selected: 574007\n"
     ]
    },
    {
     "name": "stderr",
     "output_type": "stream",
     "text": [
      "C:\\Users\\29147\\.conda\\envs\\pytorch\\lib\\site-packages\\IPython\\core\\interactiveshell.py:3357: DtypeWarning: Columns (7,11,13,14,15,18,19,20,21,22,24,25,26,30,31) have mixed types.Specify dtype option on import or set low_memory=False.\n",
      "  if (await self.run_code(code, result,  async_=asy)):\n"
     ]
    },
    {
     "name": "stdout",
     "output_type": "stream",
     "text": [
      "total noise selected: 235426\n",
      "torch.Size([32, 24, 25])\n"
     ]
    },
    {
     "name": "stderr",
     "output_type": "stream",
     "text": [
      "C:\\Users\\29147\\.conda\\envs\\pytorch\\lib\\site-packages\\torch\\nn\\functional.py:3458: UserWarning: Default upsampling behavior when mode=linear is changed to align_corners=False since 0.4.0. Please specify align_corners=True if the old behavior is desired. See the documentation of nn.Upsample for details.\n",
      "  \"See the documentation of nn.Upsample for details.\".format(mode)\n"
     ]
    },
    {
     "name": "stdout",
     "output_type": "stream",
     "text": [
      "torch.Size([32, 24, 25])\n",
      "torch.Size([32, 24, 25])\n",
      "torch.Size([32, 24, 25])\n",
      "torch.Size([32, 24, 25])\n",
      "torch.Size([32, 24, 25])\n",
      "torch.Size([32, 24, 25])\n",
      "torch.Size([32, 24, 25])\n",
      "torch.Size([32, 24, 25])\n",
      "torch.Size([32, 24, 25])\n",
      "torch.Size([32, 24, 25])\n",
      "torch.Size([32, 24, 25])\n",
      "torch.Size([32, 24, 25])\n",
      "torch.Size([32, 24, 25])\n",
      "torch.Size([32, 24, 25])\n",
      "torch.Size([32, 24, 25])\n",
      "torch.Size([32, 24, 25])\n",
      "torch.Size([32, 24, 25])\n"
     ]
    }
   ],
   "source": [
    "import torch\n",
    "from codes.model import  ResUnet, Loss_With_Weight\n",
    "from torch.utils.data import DataLoader\n",
    "from codes.dataloader import init_dataset, STEAD_Dataset\n",
    "from codes.visualize_and_evaluate import evaluate\n",
    "from codes import configs\n",
    "\n",
    "device = torch.device(\"cuda\") if torch.cuda.is_available() else torch.device(\"cpu\")\n",
    "\n",
    "train_set,val_set,noise_set = init_dataset()\n",
    "train_set = STEAD_Dataset(train_set)\n",
    "val_set = STEAD_Dataset(val_set)\n",
    "\n",
    "train_dataloader = DataLoader(train_set, shuffle=True, batch_size=configs.BATCH_SIZE, num_workers=4, drop_last=True)\n",
    "eval_dataloader = DataLoader(val_set, shuffle=True,batch_size=1, num_workers=4, drop_last=True)\n",
    "\n",
    "mseLoss = torch.nn.MSELoss()\n",
    "QuackNet = ResUnet().to(device)\n",
    "\n",
    "optimizer = torch.optim.Adam(QuackNet.parameters(),\n",
    "                lr=configs.LEARNING_RATE,\n",
    "                betas=(0.9, 0.999),\n",
    "                eps=1e-08,\n",
    "                weight_decay=0,\n",
    "                amsgrad=False)\n",
    "\n",
    "total_step = 0\n",
    "loss_sum = 0\n",
    "loss_list = []\n",
    "for epoch in range(configs.EPOCH_NUM):\n",
    "    # training\n",
    "    for index,data in enumerate(train_dataloader,0):\n",
    "        stream,label_p,label_s,p_start,s_start,coda_end = data\n",
    "\n",
    "        # 清空累加梯度\n",
    "        QuackNet.zero_grad()\n",
    "        output = QuackNet(stream.to(device))\n",
    "        loss = 0\n",
    "        loss += Loss_With_Weight(output[:,0,:], label_p.to(device))\n",
    "        loss += Loss_With_Weight(output[:,1,:], label_s.to(device))\n",
    "        loss.backward()\n",
    "        loss_sum += loss.item()\n",
    "        optimizer.step()\n",
    "        total_step += 1\n",
    "        if total_step%200 == 0:\n",
    "            loss_list.append({\n",
    "                \"total_step\":total_step,\n",
    "                \"loss:\":loss\n",
    "            })\n",
    "            print(\"total_step:{} loss:{}\".format(total_step,loss_sum/200))\n",
    "            loss_sum = 0\n",
    "\n",
    "        if total_step%configs.CHECKPOINT_ITER == 0:\n",
    "            torch.save(QuackNet.eval(),configs.model_save_dir+\"QuackPicker_iter{}.pth\".format(total_step))\n",
    "            evaluate(configs.model_save_dir+\"QuackPicker_iter{}.pth\".format(total_step),\"batchsize:{} steps:{}\".format(configs.BATCH_SIZE,total_step),eval_dataloader,50,QuackNet)\n",
    "        "
   ]
  },
  {
   "cell_type": "code",
   "execution_count": 4,
   "metadata": {},
   "outputs": [
    {
     "name": "stdout",
     "output_type": "stream",
     "text": [
      "Evaluating...    100%"
     ]
    },
    {
     "ename": "AttributeError",
     "evalue": "'Evaluator' object has no attribute 'merge_evaluator'",
     "output_type": "error",
     "traceback": [
      "\u001b[1;31m---------------------------------------------------------------------------\u001b[0m",
      "\u001b[1;31mAttributeError\u001b[0m                            Traceback (most recent call last)",
      "\u001b[1;32m<ipython-input-4-3edcd4662c3d>\u001b[0m in \u001b[0;36m<module>\u001b[1;34m\u001b[0m\n\u001b[0;32m      1\u001b[0m \u001b[0mtorch\u001b[0m\u001b[1;33m.\u001b[0m\u001b[0msave\u001b[0m\u001b[1;33m(\u001b[0m\u001b[0mQuackNet\u001b[0m\u001b[1;33m.\u001b[0m\u001b[0meval\u001b[0m\u001b[1;33m(\u001b[0m\u001b[1;33m)\u001b[0m\u001b[1;33m,\u001b[0m\u001b[0mconfigs\u001b[0m\u001b[1;33m.\u001b[0m\u001b[0mmodel_save_dir\u001b[0m\u001b[1;33m+\u001b[0m\u001b[1;34m\"QuackPicker_iter{}.pth\"\u001b[0m\u001b[1;33m.\u001b[0m\u001b[0mformat\u001b[0m\u001b[1;33m(\u001b[0m\u001b[0mtotal_step\u001b[0m\u001b[1;33m)\u001b[0m\u001b[1;33m)\u001b[0m\u001b[1;33m\u001b[0m\u001b[1;33m\u001b[0m\u001b[0m\n\u001b[1;32m----> 2\u001b[1;33m \u001b[0mevaluate\u001b[0m\u001b[1;33m(\u001b[0m\u001b[0mconfigs\u001b[0m\u001b[1;33m.\u001b[0m\u001b[0mmodel_save_dir\u001b[0m\u001b[1;33m+\u001b[0m\u001b[1;34m\"QuackPicker_iter{}.pth\"\u001b[0m\u001b[1;33m.\u001b[0m\u001b[0mformat\u001b[0m\u001b[1;33m(\u001b[0m\u001b[0mtotal_step\u001b[0m\u001b[1;33m)\u001b[0m\u001b[1;33m,\u001b[0m\u001b[1;34m\"batchsize:{} steps:{}\"\u001b[0m\u001b[1;33m.\u001b[0m\u001b[0mformat\u001b[0m\u001b[1;33m(\u001b[0m\u001b[0mconfigs\u001b[0m\u001b[1;33m.\u001b[0m\u001b[0mBATCH_SIZE\u001b[0m\u001b[1;33m,\u001b[0m\u001b[0mtotal_step\u001b[0m\u001b[1;33m)\u001b[0m\u001b[1;33m,\u001b[0m\u001b[0meval_dataloader\u001b[0m\u001b[1;33m,\u001b[0m\u001b[1;36m50\u001b[0m\u001b[1;33m,\u001b[0m\u001b[1;36m20\u001b[0m\u001b[1;33m)\u001b[0m\u001b[1;33m\u001b[0m\u001b[1;33m\u001b[0m\u001b[0m\n\u001b[0m",
      "\u001b[1;32mc:\\Users\\29147\\source\\repos\\ResUnet-MicroSeismicPicker\\codes\\visualize_and_evaluate.py\u001b[0m in \u001b[0;36mevaluate\u001b[1;34m(model_path, info, eval_loader, time_bias, th_num)\u001b[0m\n\u001b[0;32m    449\u001b[0m \u001b[1;33m\u001b[0m\u001b[0m\n\u001b[0;32m    450\u001b[0m     \u001b[1;32mfor\u001b[0m \u001b[0mi\u001b[0m \u001b[1;32min\u001b[0m \u001b[0mrange\u001b[0m\u001b[1;33m(\u001b[0m\u001b[1;36m1\u001b[0m\u001b[1;33m,\u001b[0m\u001b[0mth_num\u001b[0m\u001b[1;33m)\u001b[0m\u001b[1;33m:\u001b[0m\u001b[1;33m\u001b[0m\u001b[1;33m\u001b[0m\u001b[0m\n\u001b[1;32m--> 451\u001b[1;33m         \u001b[0mevaluator_list\u001b[0m\u001b[1;33m[\u001b[0m\u001b[1;36m0\u001b[0m\u001b[1;33m]\u001b[0m\u001b[1;33m.\u001b[0m\u001b[0mmerge_evaluator\u001b[0m\u001b[1;33m(\u001b[0m\u001b[0mevaluator_list\u001b[0m\u001b[1;33m[\u001b[0m\u001b[0mi\u001b[0m\u001b[1;33m]\u001b[0m\u001b[1;33m)\u001b[0m\u001b[1;33m\u001b[0m\u001b[1;33m\u001b[0m\u001b[0m\n\u001b[0m\u001b[0;32m    452\u001b[0m \u001b[1;33m\u001b[0m\u001b[0m\n\u001b[0;32m    453\u001b[0m     \u001b[1;31m#   返回评估结果\u001b[0m\u001b[1;33m\u001b[0m\u001b[1;33m\u001b[0m\u001b[1;33m\u001b[0m\u001b[0m\n",
      "\u001b[1;31mAttributeError\u001b[0m: 'Evaluator' object has no attribute 'merge_evaluator'"
     ]
    }
   ],
   "source": [
    "\n",
    "evaluate(configs.model_save_dir+\"QuackPicker_iter{}.pth\".format(total_step),\"batchsize:{} steps:{}\".format(configs.BATCH_SIZE,total_step),eval_dataloader,50,20)"
   ]
  },
  {
   "cell_type": "code",
   "execution_count": 1,
   "metadata": {},
   "outputs": [],
   "source": [
    "import random\n",
    "import torch\n",
    "import torch.nn as nn\n",
    "import torch.nn.functional as F"
   ]
  },
  {
   "cell_type": "code",
   "execution_count": 19,
   "metadata": {},
   "outputs": [
    {
     "data": {
      "text/plain": [
       "11"
      ]
     },
     "execution_count": 19,
     "metadata": {},
     "output_type": "execute_result"
    }
   ],
   "source": [
    "random.randint(9,13)"
   ]
  },
  {
   "cell_type": "code",
   "execution_count": 2,
   "metadata": {},
   "outputs": [],
   "source": [
    "lstm = nn.LSTM(3, 3)"
   ]
  },
  {
   "cell_type": "code",
   "execution_count": null,
   "metadata": {},
   "outputs": [],
   "source": []
  }
 ],
 "metadata": {
  "kernelspec": {
   "display_name": "Python 3",
   "language": "python",
   "name": "python3"
  },
  "language_info": {
   "codemirror_mode": {
    "name": "ipython",
    "version": 3
   },
   "file_extension": ".py",
   "mimetype": "text/x-python",
   "name": "python",
   "nbconvert_exporter": "python",
   "pygments_lexer": "ipython3",
   "version": "3.7.10"
  },
  "orig_nbformat": 4
 },
 "nbformat": 4,
 "nbformat_minor": 2
}
